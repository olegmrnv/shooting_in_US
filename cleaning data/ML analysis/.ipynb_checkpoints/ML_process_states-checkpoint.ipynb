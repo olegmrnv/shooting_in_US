{
 "cells": [
  {
   "cell_type": "code",
   "execution_count": 38,
   "metadata": {},
   "outputs": [],
   "source": [
    "%matplotlib inline\n",
    "import matplotlib.pyplot as plt\n",
    "import numpy as np\n",
    "import pandas as pd"
   ]
  },
  {
   "cell_type": "code",
   "execution_count": 39,
   "metadata": {},
   "outputs": [],
   "source": [
    "df = pd.read_csv('states2014.csv')"
   ]
  },
  {
   "cell_type": "code",
   "execution_count": 40,
   "metadata": {},
   "outputs": [
    {
     "data": {
      "text/plain": [
       "Index(['state', 'n_incidents', 'lawtotal', 'firearm_agencies',\n",
       "       'poverty_percent', 'permits_granted', 'TOT_POP', 'TOT_MALE',\n",
       "       'TOT_FEMALE', 'WA_MALE', 'WA_FEMALE', 'BA_MALE', 'BA_FEMALE', 'IA_MALE',\n",
       "       'IA_FEMALE', 'AA_MALE', 'AA_FEMALE', 'H_MALE', 'H_FEMALE'],\n",
       "      dtype='object')"
      ]
     },
     "execution_count": 40,
     "metadata": {},
     "output_type": "execute_result"
    }
   ],
   "source": [
    "df.columns"
   ]
  },
  {
   "cell_type": "code",
   "execution_count": 41,
   "metadata": {},
   "outputs": [
    {
     "name": "stdout",
     "output_type": "stream",
     "text": [
      "(51, 17) (51, 1)\n"
     ]
    }
   ],
   "source": [
    "X = df[['lawtotal', 'firearm_agencies','poverty_percent', 'permits_granted',  \n",
    "         'TOT_POP', 'TOT_MALE', 'TOT_FEMALE', 'WA_MALE', 'WA_FEMALE', 'BA_MALE', 'BA_FEMALE', \n",
    "         'IA_MALE', 'IA_FEMALE', 'AA_MALE', 'AA_FEMALE', 'H_MALE', 'H_FEMALE']]\n",
    "y = df['n_incidents'].values.reshape(-1, 1)\n",
    "print(X.shape, y.shape)"
   ]
  },
  {
   "cell_type": "code",
   "execution_count": 42,
   "metadata": {},
   "outputs": [],
   "source": [
    "from sklearn.model_selection import train_test_split\n",
    "X_train, X_test, y_train, y_test = train_test_split(X, y, random_state=42)\n",
    "\n",
    "from sklearn.linear_model import LinearRegression\n",
    "model = LinearRegression()"
   ]
  },
  {
   "cell_type": "code",
   "execution_count": 43,
   "metadata": {},
   "outputs": [
    {
     "name": "stderr",
     "output_type": "stream",
     "text": [
      "C:\\Users\\Oleg\\Anaconda3\\lib\\site-packages\\sklearn\\preprocessing\\data.py:625: DataConversionWarning: Data with input dtype int64, float64 were all converted to float64 by StandardScaler.\n",
      "  return self.partial_fit(X, y)\n",
      "C:\\Users\\Oleg\\Anaconda3\\lib\\site-packages\\sklearn\\utils\\validation.py:595: DataConversionWarning: Data with input dtype int64 was converted to float64 by StandardScaler.\n",
      "  warnings.warn(msg, DataConversionWarning)\n",
      "C:\\Users\\Oleg\\Anaconda3\\lib\\site-packages\\ipykernel_launcher.py:5: DataConversionWarning: Data with input dtype int64, float64 were all converted to float64 by StandardScaler.\n",
      "  \"\"\"\n",
      "C:\\Users\\Oleg\\Anaconda3\\lib\\site-packages\\ipykernel_launcher.py:6: DataConversionWarning: Data with input dtype int64, float64 were all converted to float64 by StandardScaler.\n",
      "  \n",
      "C:\\Users\\Oleg\\Anaconda3\\lib\\site-packages\\sklearn\\utils\\validation.py:595: DataConversionWarning: Data with input dtype int64 was converted to float64 by StandardScaler.\n",
      "  warnings.warn(msg, DataConversionWarning)\n",
      "C:\\Users\\Oleg\\Anaconda3\\lib\\site-packages\\sklearn\\utils\\validation.py:595: DataConversionWarning: Data with input dtype int64 was converted to float64 by StandardScaler.\n",
      "  warnings.warn(msg, DataConversionWarning)\n"
     ]
    }
   ],
   "source": [
    "from sklearn.preprocessing import StandardScaler\n",
    "X_scaler = StandardScaler().fit(X_train)\n",
    "y_scaler = StandardScaler().fit(y_train)\n",
    "\n",
    "X_train_scaled = X_scaler.transform(X_train)\n",
    "X_test_scaled = X_scaler.transform(X_test)\n",
    "y_train_scaled = y_scaler.transform(y_train)\n",
    "y_test_scaled = y_scaler.transform(y_test)"
   ]
  },
  {
   "cell_type": "code",
   "execution_count": 44,
   "metadata": {},
   "outputs": [
    {
     "name": "stdout",
     "output_type": "stream",
     "text": [
      "Training Score: 0.9709537871019273\n",
      "Testing Score: 0.6759912779681885\n"
     ]
    }
   ],
   "source": [
    "model.fit(X_train_scaled, y_train_scaled)\n",
    "\n",
    "training_score = model.score(X_train_scaled, y_train_scaled)\n",
    "testing_score = model.score(X_test_scaled, y_test_scaled)\n",
    "\n",
    "print(f\"Training Score: {training_score}\")\n",
    "print(f\"Testing Score: {testing_score}\")"
   ]
  },
  {
   "cell_type": "code",
   "execution_count": 45,
   "metadata": {},
   "outputs": [
    {
     "data": {
      "text/plain": [
       "array([[-9.35541399e-02, -1.93920199e-02,  6.94203865e-02,\n",
       "         1.13647186e-01, -2.60200548e+00,  6.99369521e+01,\n",
       "        -7.34139421e+01, -6.39823263e+01,  6.78453372e+01,\n",
       "        -4.05858729e+00,  6.22936298e+00, -1.95202017e+00,\n",
       "         1.93859723e+00, -9.17318139e+00,  1.14438926e+01,\n",
       "         6.79227612e+00, -7.08861159e+00]])"
      ]
     },
     "execution_count": 45,
     "metadata": {},
     "output_type": "execute_result"
    }
   ],
   "source": [
    "model.coef_"
   ]
  },
  {
   "cell_type": "code",
   "execution_count": 46,
   "metadata": {},
   "outputs": [
    {
     "data": {
      "text/html": [
       "<div>\n",
       "<style scoped>\n",
       "    .dataframe tbody tr th:only-of-type {\n",
       "        vertical-align: middle;\n",
       "    }\n",
       "\n",
       "    .dataframe tbody tr th {\n",
       "        vertical-align: top;\n",
       "    }\n",
       "\n",
       "    .dataframe thead th {\n",
       "        text-align: right;\n",
       "    }\n",
       "</style>\n",
       "<table border=\"1\" class=\"dataframe\">\n",
       "  <thead>\n",
       "    <tr style=\"text-align: right;\">\n",
       "      <th></th>\n",
       "      <th>feature</th>\n",
       "      <th>coef</th>\n",
       "    </tr>\n",
       "  </thead>\n",
       "  <tbody>\n",
       "    <tr>\n",
       "      <th>0</th>\n",
       "      <td>lawtotal</td>\n",
       "      <td>-0.093554</td>\n",
       "    </tr>\n",
       "    <tr>\n",
       "      <th>1</th>\n",
       "      <td>firearm_agencies</td>\n",
       "      <td>-0.019392</td>\n",
       "    </tr>\n",
       "    <tr>\n",
       "      <th>2</th>\n",
       "      <td>poverty_percent</td>\n",
       "      <td>0.069420</td>\n",
       "    </tr>\n",
       "    <tr>\n",
       "      <th>3</th>\n",
       "      <td>permits_granted</td>\n",
       "      <td>0.113647</td>\n",
       "    </tr>\n",
       "    <tr>\n",
       "      <th>4</th>\n",
       "      <td>TOT_POP</td>\n",
       "      <td>-2.602005</td>\n",
       "    </tr>\n",
       "    <tr>\n",
       "      <th>5</th>\n",
       "      <td>TOT_MALE</td>\n",
       "      <td>69.936952</td>\n",
       "    </tr>\n",
       "    <tr>\n",
       "      <th>6</th>\n",
       "      <td>TOT_FEMALE</td>\n",
       "      <td>-73.413942</td>\n",
       "    </tr>\n",
       "    <tr>\n",
       "      <th>7</th>\n",
       "      <td>WA_MALE</td>\n",
       "      <td>-63.982326</td>\n",
       "    </tr>\n",
       "    <tr>\n",
       "      <th>8</th>\n",
       "      <td>WA_FEMALE</td>\n",
       "      <td>67.845337</td>\n",
       "    </tr>\n",
       "    <tr>\n",
       "      <th>9</th>\n",
       "      <td>BA_MALE</td>\n",
       "      <td>-4.058587</td>\n",
       "    </tr>\n",
       "    <tr>\n",
       "      <th>10</th>\n",
       "      <td>BA_FEMALE</td>\n",
       "      <td>6.229363</td>\n",
       "    </tr>\n",
       "    <tr>\n",
       "      <th>11</th>\n",
       "      <td>IA_MALE</td>\n",
       "      <td>-1.952020</td>\n",
       "    </tr>\n",
       "    <tr>\n",
       "      <th>12</th>\n",
       "      <td>IA_FEMALE</td>\n",
       "      <td>1.938597</td>\n",
       "    </tr>\n",
       "    <tr>\n",
       "      <th>13</th>\n",
       "      <td>AA_MALE</td>\n",
       "      <td>-9.173181</td>\n",
       "    </tr>\n",
       "    <tr>\n",
       "      <th>14</th>\n",
       "      <td>AA_FEMALE</td>\n",
       "      <td>11.443893</td>\n",
       "    </tr>\n",
       "    <tr>\n",
       "      <th>15</th>\n",
       "      <td>H_MALE</td>\n",
       "      <td>6.792276</td>\n",
       "    </tr>\n",
       "    <tr>\n",
       "      <th>16</th>\n",
       "      <td>H_FEMALE</td>\n",
       "      <td>-7.088612</td>\n",
       "    </tr>\n",
       "  </tbody>\n",
       "</table>\n",
       "</div>"
      ],
      "text/plain": [
       "             feature       coef\n",
       "0           lawtotal  -0.093554\n",
       "1   firearm_agencies  -0.019392\n",
       "2    poverty_percent   0.069420\n",
       "3    permits_granted   0.113647\n",
       "4            TOT_POP  -2.602005\n",
       "5           TOT_MALE  69.936952\n",
       "6         TOT_FEMALE -73.413942\n",
       "7            WA_MALE -63.982326\n",
       "8          WA_FEMALE  67.845337\n",
       "9            BA_MALE  -4.058587\n",
       "10         BA_FEMALE   6.229363\n",
       "11           IA_MALE  -1.952020\n",
       "12         IA_FEMALE   1.938597\n",
       "13           AA_MALE  -9.173181\n",
       "14         AA_FEMALE  11.443893\n",
       "15            H_MALE   6.792276\n",
       "16          H_FEMALE  -7.088612"
      ]
     },
     "execution_count": 46,
     "metadata": {},
     "output_type": "execute_result"
    }
   ],
   "source": [
    "model_coefs_df = pd.DataFrame()\n",
    "model_coefs_df['feature'] = X.columns\n",
    "model_coefs_df['coef'] = model.coef_[0]\n",
    "model_coefs_df"
   ]
  },
  {
   "cell_type": "code",
   "execution_count": 47,
   "metadata": {},
   "outputs": [
    {
     "name": "stdout",
     "output_type": "stream",
     "text": [
      "MSE train: 0.029046212898072753\n",
      "MSE test: 0.3257599076849482\n"
     ]
    }
   ],
   "source": [
    "from sklearn.metrics import mean_squared_error\n",
    "\n",
    "predictions_train = model.predict(X_train_scaled)\n",
    "predictions_test = model.predict(X_test_scaled)\n",
    "\n",
    "MSE_train = mean_squared_error(y_train_scaled, predictions_train)\n",
    "MSE_test = mean_squared_error(y_test_scaled, predictions_test)\n",
    "\n",
    "\n",
    "print(f\"MSE train: {MSE_train}\")\n",
    "print(f\"MSE test: {MSE_test}\")"
   ]
  },
  {
   "cell_type": "code",
   "execution_count": 53,
   "metadata": {},
   "outputs": [
    {
     "data": {
      "image/png": "[encoded data removed]",
      "text/plain": [
       "<Figure size 432x288 with 1 Axes>"
      ]
     },
     "metadata": {
      "needs_background": "light"
     },
     "output_type": "display_data"
    },
    {
     "data": {
      "text/plain": [
       "<Figure size 432x288 with 0 Axes>"
      ]
     },
     "metadata": {},
     "output_type": "display_data"
    }
   ],
   "source": [
    "fig = plt.figure()\n",
    "plt.scatter(model.predict(X_train_scaled), model.predict(X_train_scaled) - y_train_scaled, c=\"blue\", label=\"Training Data\")\n",
    "plt.scatter(model.predict(X_test_scaled), model.predict(X_test_scaled) - y_test_scaled, c=\"orange\", label=\"Testing Data\")\n",
    "plt.legend()\n",
    "plt.hlines(y=0, xmin=y_test_scaled.min(), xmax=y_test_scaled.max())\n",
    "plt.title(\"Residual Plot - State Data\")\n",
    "fig = plt.show()\n",
    "fig.savefig('residual_state.png', dpi=fig.dpi)"
   ]
  },
  {
   "cell_type": "code",
   "execution_count": 29,
   "metadata": {},
   "outputs": [],
   "source": [
    "import pandas as pd\n",
    "county_df = pd.read_csv('data_by_county.csv')"
   ]
  },
  {
   "cell_type": "code",
   "execution_count": 30,
   "metadata": {},
   "outputs": [
    {
     "data": {
      "text/html": [
       "<div>\n",
       "<style scoped>\n",
       "    .dataframe tbody tr th:only-of-type {\n",
       "        vertical-align: middle;\n",
       "    }\n",
       "\n",
       "    .dataframe tbody tr th {\n",
       "        vertical-align: top;\n",
       "    }\n",
       "\n",
       "    .dataframe thead th {\n",
       "        text-align: right;\n",
       "    }\n",
       "</style>\n",
       "<table border=\"1\" class=\"dataframe\">\n",
       "  <thead>\n",
       "    <tr style=\"text-align: right;\">\n",
       "      <th></th>\n",
       "      <th>State</th>\n",
       "      <th>state_id_y</th>\n",
       "      <th>County</th>\n",
       "      <th>Region Code</th>\n",
       "      <th>n_incidents</th>\n",
       "      <th>lawtotal</th>\n",
       "      <th>poverty_percent</th>\n",
       "      <th>firearms_agencies</th>\n",
       "      <th>TOT_POP</th>\n",
       "      <th>TOT_MALE</th>\n",
       "      <th>...</th>\n",
       "      <th>WA_MALE</th>\n",
       "      <th>WA_FEMALE</th>\n",
       "      <th>BA_MALE</th>\n",
       "      <th>BA_FEMALE</th>\n",
       "      <th>IA_MALE</th>\n",
       "      <th>IA_FEMALE</th>\n",
       "      <th>AA_MALE</th>\n",
       "      <th>AA_FEMALE</th>\n",
       "      <th>H_MALE</th>\n",
       "      <th>H_FEMALE</th>\n",
       "    </tr>\n",
       "  </thead>\n",
       "  <tbody>\n",
       "    <tr>\n",
       "      <th>0</th>\n",
       "      <td>Alabama</td>\n",
       "      <td>AL</td>\n",
       "      <td>Autauga</td>\n",
       "      <td>1001</td>\n",
       "      <td>39</td>\n",
       "      <td>10</td>\n",
       "      <td>10.8</td>\n",
       "      <td>19</td>\n",
       "      <td>55347</td>\n",
       "      <td>26857</td>\n",
       "      <td>...</td>\n",
       "      <td>20925</td>\n",
       "      <td>21840</td>\n",
       "      <td>5003</td>\n",
       "      <td>5601</td>\n",
       "      <td>121</td>\n",
       "      <td>146</td>\n",
       "      <td>276</td>\n",
       "      <td>388</td>\n",
       "      <td>816</td>\n",
       "      <td>757</td>\n",
       "    </tr>\n",
       "    <tr>\n",
       "      <th>1</th>\n",
       "      <td>Alabama</td>\n",
       "      <td>AL</td>\n",
       "      <td>Baldwin</td>\n",
       "      <td>1003</td>\n",
       "      <td>85</td>\n",
       "      <td>10</td>\n",
       "      <td>10.0</td>\n",
       "      <td>60</td>\n",
       "      <td>203709</td>\n",
       "      <td>99286</td>\n",
       "      <td>...</td>\n",
       "      <td>86524</td>\n",
       "      <td>90838</td>\n",
       "      <td>9477</td>\n",
       "      <td>9954</td>\n",
       "      <td>740</td>\n",
       "      <td>765</td>\n",
       "      <td>852</td>\n",
       "      <td>1055</td>\n",
       "      <td>4873</td>\n",
       "      <td>4395</td>\n",
       "    </tr>\n",
       "    <tr>\n",
       "      <th>2</th>\n",
       "      <td>Alabama</td>\n",
       "      <td>AL</td>\n",
       "      <td>Barbour</td>\n",
       "      <td>1005</td>\n",
       "      <td>20</td>\n",
       "      <td>10</td>\n",
       "      <td>24.9</td>\n",
       "      <td>9</td>\n",
       "      <td>26489</td>\n",
       "      <td>14148</td>\n",
       "      <td>...</td>\n",
       "      <td>7099</td>\n",
       "      <td>6176</td>\n",
       "      <td>6728</td>\n",
       "      <td>5910</td>\n",
       "      <td>90</td>\n",
       "      <td>63</td>\n",
       "      <td>57</td>\n",
       "      <td>61</td>\n",
       "      <td>680</td>\n",
       "      <td>492</td>\n",
       "    </tr>\n",
       "    <tr>\n",
       "      <th>3</th>\n",
       "      <td>Alabama</td>\n",
       "      <td>AL</td>\n",
       "      <td>Bibb</td>\n",
       "      <td>1007</td>\n",
       "      <td>8</td>\n",
       "      <td>10</td>\n",
       "      <td>15.6</td>\n",
       "      <td>3</td>\n",
       "      <td>22583</td>\n",
       "      <td>12170</td>\n",
       "      <td>...</td>\n",
       "      <td>8863</td>\n",
       "      <td>8316</td>\n",
       "      <td>3117</td>\n",
       "      <td>1900</td>\n",
       "      <td>45</td>\n",
       "      <td>51</td>\n",
       "      <td>19</td>\n",
       "      <td>33</td>\n",
       "      <td>328</td>\n",
       "      <td>216</td>\n",
       "    </tr>\n",
       "    <tr>\n",
       "      <th>4</th>\n",
       "      <td>Alabama</td>\n",
       "      <td>AL</td>\n",
       "      <td>Blount</td>\n",
       "      <td>1009</td>\n",
       "      <td>20</td>\n",
       "      <td>10</td>\n",
       "      <td>12.1</td>\n",
       "      <td>15</td>\n",
       "      <td>57673</td>\n",
       "      <td>28495</td>\n",
       "      <td>...</td>\n",
       "      <td>27308</td>\n",
       "      <td>27926</td>\n",
       "      <td>596</td>\n",
       "      <td>488</td>\n",
       "      <td>174</td>\n",
       "      <td>203</td>\n",
       "      <td>65</td>\n",
       "      <td>99</td>\n",
       "      <td>2826</td>\n",
       "      <td>2338</td>\n",
       "    </tr>\n",
       "  </tbody>\n",
       "</table>\n",
       "<p>5 rows × 21 columns</p>\n",
       "</div>"
      ],
      "text/plain": [
       "     State state_id_y   County  Region Code  n_incidents  lawtotal  \\\n",
       "0  Alabama         AL  Autauga         1001           39        10   \n",
       "1  Alabama         AL  Baldwin         1003           85        10   \n",
       "2  Alabama         AL  Barbour         1005           20        10   \n",
       "3  Alabama         AL     Bibb         1007            8        10   \n",
       "4  Alabama         AL   Blount         1009           20        10   \n",
       "\n",
       "   poverty_percent  firearms_agencies  TOT_POP  TOT_MALE    ...     WA_MALE  \\\n",
       "0             10.8                 19    55347     26857    ...       20925   \n",
       "1             10.0                 60   203709     99286    ...       86524   \n",
       "2             24.9                  9    26489     14148    ...        7099   \n",
       "3             15.6                  3    22583     12170    ...        8863   \n",
       "4             12.1                 15    57673     28495    ...       27308   \n",
       "\n",
       "   WA_FEMALE  BA_MALE  BA_FEMALE  IA_MALE  IA_FEMALE  AA_MALE  AA_FEMALE  \\\n",
       "0      21840     5003       5601      121        146      276        388   \n",
       "1      90838     9477       9954      740        765      852       1055   \n",
       "2       6176     6728       5910       90         63       57         61   \n",
       "3       8316     3117       1900       45         51       19         33   \n",
       "4      27926      596        488      174        203       65         99   \n",
       "\n",
       "   H_MALE  H_FEMALE  \n",
       "0     816       757  \n",
       "1    4873      4395  \n",
       "2     680       492  \n",
       "3     328       216  \n",
       "4    2826      2338  \n",
       "\n",
       "[5 rows x 21 columns]"
      ]
     },
     "execution_count": 30,
     "metadata": {},
     "output_type": "execute_result"
    }
   ],
   "source": [
    "county_df.head()"
   ]
  },
  {
   "cell_type": "code",
   "execution_count": 31,
   "metadata": {},
   "outputs": [
    {
     "name": "stdout",
     "output_type": "stream",
     "text": [
      "(2707, 16) (2707, 1)\n"
     ]
    }
   ],
   "source": [
    "X = county_df[['lawtotal', 'firearms_agencies','poverty_percent',   \n",
    "         'TOT_POP', 'TOT_MALE', 'TOT_FEMALE', 'WA_MALE', 'WA_FEMALE', 'BA_MALE', 'BA_FEMALE', \n",
    "         'IA_MALE', 'IA_FEMALE', 'AA_MALE', 'AA_FEMALE', 'H_MALE', 'H_FEMALE']]\n",
    "y = county_df['n_incidents'].values.reshape(-1, 1)\n",
    "print(X.shape, y.shape)"
   ]
  },
  {
   "cell_type": "code",
   "execution_count": 32,
   "metadata": {},
   "outputs": [],
   "source": [
    "from sklearn.model_selection import train_test_split\n",
    "X_train, X_test, y_train, y_test = train_test_split(X, y, random_state=42)\n",
    "\n",
    "from sklearn.linear_model import LinearRegression\n",
    "model = LinearRegression()"
   ]
  },
  {
   "cell_type": "code",
   "execution_count": 33,
   "metadata": {},
   "outputs": [
    {
     "name": "stderr",
     "output_type": "stream",
     "text": [
      "C:\\Users\\Oleg\\Anaconda3\\lib\\site-packages\\sklearn\\preprocessing\\data.py:625: DataConversionWarning: Data with input dtype int64, float64 were all converted to float64 by StandardScaler.\n",
      "  return self.partial_fit(X, y)\n",
      "C:\\Users\\Oleg\\Anaconda3\\lib\\site-packages\\sklearn\\utils\\validation.py:595: DataConversionWarning: Data with input dtype int64 was converted to float64 by StandardScaler.\n",
      "  warnings.warn(msg, DataConversionWarning)\n",
      "C:\\Users\\Oleg\\Anaconda3\\lib\\site-packages\\ipykernel_launcher.py:5: DataConversionWarning: Data with input dtype int64, float64 were all converted to float64 by StandardScaler.\n",
      "  \"\"\"\n",
      "C:\\Users\\Oleg\\Anaconda3\\lib\\site-packages\\ipykernel_launcher.py:6: DataConversionWarning: Data with input dtype int64, float64 were all converted to float64 by StandardScaler.\n",
      "  \n",
      "C:\\Users\\Oleg\\Anaconda3\\lib\\site-packages\\sklearn\\utils\\validation.py:595: DataConversionWarning: Data with input dtype int64 was converted to float64 by StandardScaler.\n",
      "  warnings.warn(msg, DataConversionWarning)\n",
      "C:\\Users\\Oleg\\Anaconda3\\lib\\site-packages\\sklearn\\utils\\validation.py:595: DataConversionWarning: Data with input dtype int64 was converted to float64 by StandardScaler.\n",
      "  warnings.warn(msg, DataConversionWarning)\n"
     ]
    }
   ],
   "source": [
    "from sklearn.preprocessing import StandardScaler\n",
    "X_scaler = StandardScaler().fit(X_train)\n",
    "y_scaler = StandardScaler().fit(y_train)\n",
    "\n",
    "X_train_scaled = X_scaler.transform(X_train)\n",
    "X_test_scaled = X_scaler.transform(X_test)\n",
    "y_train_scaled = y_scaler.transform(y_train)\n",
    "y_test_scaled = y_scaler.transform(y_test)"
   ]
  },
  {
   "cell_type": "code",
   "execution_count": null,
   "metadata": {},
   "outputs": [],
   "source": []
  },
  {
   "cell_type": "code",
   "execution_count": 34,
   "metadata": {},
   "outputs": [
    {
     "name": "stdout",
     "output_type": "stream",
     "text": [
      "Training Score: 0.6863554632708344\n",
      "Testing Score: 0.4868621832117608\n"
     ]
    }
   ],
   "source": [
    "model.fit(X_train_scaled, y_train_scaled)\n",
    "\n",
    "training_score = model.score(X_train_scaled, y_train_scaled)\n",
    "testing_score = model.score(X_test_scaled, y_test_scaled)\n",
    "\n",
    "print(f\"Training Score: {training_score}\")\n",
    "print(f\"Testing Score: {testing_score}\")"
   ]
  },
  {
   "cell_type": "code",
   "execution_count": 35,
   "metadata": {},
   "outputs": [
    {
     "data": {
      "text/html": [
       "<div>\n",
       "<style scoped>\n",
       "    .dataframe tbody tr th:only-of-type {\n",
       "        vertical-align: middle;\n",
       "    }\n",
       "\n",
       "    .dataframe tbody tr th {\n",
       "        vertical-align: top;\n",
       "    }\n",
       "\n",
       "    .dataframe thead th {\n",
       "        text-align: right;\n",
       "    }\n",
       "</style>\n",
       "<table border=\"1\" class=\"dataframe\">\n",
       "  <thead>\n",
       "    <tr style=\"text-align: right;\">\n",
       "      <th></th>\n",
       "      <th>feature</th>\n",
       "      <th>coef</th>\n",
       "    </tr>\n",
       "  </thead>\n",
       "  <tbody>\n",
       "    <tr>\n",
       "      <th>0</th>\n",
       "      <td>lawtotal</td>\n",
       "      <td>0.020542</td>\n",
       "    </tr>\n",
       "    <tr>\n",
       "      <th>1</th>\n",
       "      <td>firearms_agencies</td>\n",
       "      <td>0.009139</td>\n",
       "    </tr>\n",
       "    <tr>\n",
       "      <th>2</th>\n",
       "      <td>poverty_percent</td>\n",
       "      <td>0.064974</td>\n",
       "    </tr>\n",
       "    <tr>\n",
       "      <th>3</th>\n",
       "      <td>TOT_POP</td>\n",
       "      <td>2.746879</td>\n",
       "    </tr>\n",
       "    <tr>\n",
       "      <th>4</th>\n",
       "      <td>TOT_MALE</td>\n",
       "      <td>-20.965877</td>\n",
       "    </tr>\n",
       "    <tr>\n",
       "      <th>5</th>\n",
       "      <td>TOT_FEMALE</td>\n",
       "      <td>25.581623</td>\n",
       "    </tr>\n",
       "    <tr>\n",
       "      <th>6</th>\n",
       "      <td>WA_MALE</td>\n",
       "      <td>13.340485</td>\n",
       "    </tr>\n",
       "    <tr>\n",
       "      <th>7</th>\n",
       "      <td>WA_FEMALE</td>\n",
       "      <td>-18.058952</td>\n",
       "    </tr>\n",
       "    <tr>\n",
       "      <th>8</th>\n",
       "      <td>BA_MALE</td>\n",
       "      <td>6.380878</td>\n",
       "    </tr>\n",
       "    <tr>\n",
       "      <th>9</th>\n",
       "      <td>BA_FEMALE</td>\n",
       "      <td>-7.820625</td>\n",
       "    </tr>\n",
       "    <tr>\n",
       "      <th>10</th>\n",
       "      <td>IA_MALE</td>\n",
       "      <td>0.125113</td>\n",
       "    </tr>\n",
       "    <tr>\n",
       "      <th>11</th>\n",
       "      <td>IA_FEMALE</td>\n",
       "      <td>-0.255262</td>\n",
       "    </tr>\n",
       "    <tr>\n",
       "      <th>12</th>\n",
       "      <td>AA_MALE</td>\n",
       "      <td>4.315980</td>\n",
       "    </tr>\n",
       "    <tr>\n",
       "      <th>13</th>\n",
       "      <td>AA_FEMALE</td>\n",
       "      <td>-5.447752</td>\n",
       "    </tr>\n",
       "    <tr>\n",
       "      <th>14</th>\n",
       "      <td>H_MALE</td>\n",
       "      <td>1.413935</td>\n",
       "    </tr>\n",
       "    <tr>\n",
       "      <th>15</th>\n",
       "      <td>H_FEMALE</td>\n",
       "      <td>-1.603738</td>\n",
       "    </tr>\n",
       "  </tbody>\n",
       "</table>\n",
       "</div>"
      ],
      "text/plain": [
       "              feature       coef\n",
       "0            lawtotal   0.020542\n",
       "1   firearms_agencies   0.009139\n",
       "2     poverty_percent   0.064974\n",
       "3             TOT_POP   2.746879\n",
       "4            TOT_MALE -20.965877\n",
       "5          TOT_FEMALE  25.581623\n",
       "6             WA_MALE  13.340485\n",
       "7           WA_FEMALE -18.058952\n",
       "8             BA_MALE   6.380878\n",
       "9           BA_FEMALE  -7.820625\n",
       "10            IA_MALE   0.125113\n",
       "11          IA_FEMALE  -0.255262\n",
       "12            AA_MALE   4.315980\n",
       "13          AA_FEMALE  -5.447752\n",
       "14             H_MALE   1.413935\n",
       "15           H_FEMALE  -1.603738"
      ]
     },
     "execution_count": 35,
     "metadata": {},
     "output_type": "execute_result"
    }
   ],
   "source": [
    "model_coefs_df = pd.DataFrame()\n",
    "model_coefs_df['feature'] = X.columns\n",
    "model_coefs_df['coef'] = model.coef_[0]\n",
    "model_coefs_df"
   ]
  },
  {
   "cell_type": "code",
   "execution_count": 36,
   "metadata": {},
   "outputs": [
    {
     "name": "stdout",
     "output_type": "stream",
     "text": [
      "MSE train: 0.31364453672916554\n",
      "MSE test: 2.7597092821703293\n"
     ]
    }
   ],
   "source": [
    "from sklearn.metrics import mean_squared_error\n",
    "\n",
    "predictions_train = model.predict(X_train_scaled)\n",
    "predictions_test = model.predict(X_test_scaled)\n",
    "\n",
    "MSE_train = mean_squared_error(y_train_scaled, predictions_train)\n",
    "MSE_test = mean_squared_error(y_test_scaled, predictions_test)\n",
    "\n",
    "\n",
    "print(f\"MSE train: {MSE_train}\")\n",
    "print(f\"MSE test: {MSE_test}\")"
   ]
  },
  {
   "cell_type": "code",
   "execution_count": 37,
   "metadata": {},
   "outputs": [
    {
     "data": {
      "image/png": "[encoded data removed]",
      "text/plain": [
       "<Figure size 432x288 with 1 Axes>"
      ]
     },
     "metadata": {
      "needs_background": "light"
     },
     "output_type": "display_data"
    }
   ],
   "source": [
    "plt.scatter(model.predict(X_train_scaled), model.predict(X_train_scaled) - y_train_scaled, c=\"blue\", label=\"Training Data\")\n",
    "plt.scatter(model.predict(X_test_scaled), model.predict(X_test_scaled) - y_test_scaled, c=\"orange\", label=\"Testing Data\")\n",
    "plt.legend()\n",
    "plt.hlines(y=0, xmin=y_test_scaled.min(), xmax=y_test_scaled.max())\n",
    "plt.title(\"Residual Plot\")\n",
    "plt.show()"
   ]
  },
  {
   "cell_type": "code",
   "execution_count": null,
   "metadata": {},
   "outputs": [],
   "source": []
  }
 ],
 "metadata": {
  "kernelspec": {
   "display_name": "Python 3",
   "language": "python",
   "name": "python3"
  },
  "language_info": {
   "codemirror_mode": {
    "name": "ipython",
    "version": 3
   },
   "file_extension": ".py",
   "mimetype": "text/x-python",
   "name": "python",
   "nbconvert_exporter": "python",
   "pygments_lexer": "ipython3",
   "version": "3.7.1"
  },
  "toc": {
   "base_numbering": 1,
   "nav_menu": {},
   "number_sections": false,
   "sideBar": false,
   "skip_h1_title": false,
   "title_cell": "Table of Contents",
   "title_sidebar": "Contents",
   "toc_cell": false,
   "toc_position": {},
   "toc_section_display": false,
   "toc_window_display": false
  }
 },
 "nbformat": 4,
 "nbformat_minor": 2
}
