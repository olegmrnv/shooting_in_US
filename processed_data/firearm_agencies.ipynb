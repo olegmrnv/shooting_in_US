{
 "cells": [
  {
   "cell_type": "code",
   "execution_count": 1,
   "metadata": {},
   "outputs": [],
   "source": [
    "import pandas as pd"
   ]
  },
  {
   "cell_type": "code",
   "execution_count": 3,
   "metadata": {},
   "outputs": [],
   "source": [
    "fage = pd.read_csv('firearm_agencies.csv')"
   ]
  },
  {
   "cell_type": "code",
   "execution_count": 5,
   "metadata": {
    "scrolled": true
   },
   "outputs": [
    {
     "data": {
      "text/html": [
       "<div>\n",
       "<style scoped>\n",
       "    .dataframe tbody tr th:only-of-type {\n",
       "        vertical-align: middle;\n",
       "    }\n",
       "\n",
       "    .dataframe tbody tr th {\n",
       "        vertical-align: top;\n",
       "    }\n",
       "\n",
       "    .dataframe thead th {\n",
       "        text-align: right;\n",
       "    }\n",
       "</style>\n",
       "<table border=\"1\" class=\"dataframe\">\n",
       "  <thead>\n",
       "    <tr style=\"text-align: right;\">\n",
       "      <th></th>\n",
       "      <th>Unnamed: 0</th>\n",
       "      <th>city</th>\n",
       "      <th>state_id</th>\n",
       "      <th>state_name</th>\n",
       "      <th>county_name</th>\n",
       "    </tr>\n",
       "  </thead>\n",
       "  <tbody>\n",
       "    <tr>\n",
       "      <th>0</th>\n",
       "      <td>0</td>\n",
       "      <td>Wasilla</td>\n",
       "      <td>AK</td>\n",
       "      <td>Alaska</td>\n",
       "      <td>Matanuska-Susitna</td>\n",
       "    </tr>\n",
       "    <tr>\n",
       "      <th>1</th>\n",
       "      <td>1</td>\n",
       "      <td>Wasilla</td>\n",
       "      <td>AK</td>\n",
       "      <td>Alaska</td>\n",
       "      <td>Matanuska-Susitna</td>\n",
       "    </tr>\n",
       "    <tr>\n",
       "      <th>2</th>\n",
       "      <td>2</td>\n",
       "      <td>Anchorage</td>\n",
       "      <td>AK</td>\n",
       "      <td>Alaska</td>\n",
       "      <td>Anchorage</td>\n",
       "    </tr>\n",
       "    <tr>\n",
       "      <th>3</th>\n",
       "      <td>4</td>\n",
       "      <td>Anchorage</td>\n",
       "      <td>AK</td>\n",
       "      <td>Alaska</td>\n",
       "      <td>Anchorage</td>\n",
       "    </tr>\n",
       "    <tr>\n",
       "      <th>4</th>\n",
       "      <td>5</td>\n",
       "      <td>Anchorage</td>\n",
       "      <td>AK</td>\n",
       "      <td>Alaska</td>\n",
       "      <td>Anchorage</td>\n",
       "    </tr>\n",
       "  </tbody>\n",
       "</table>\n",
       "</div>"
      ],
      "text/plain": [
       "   Unnamed: 0       city state_id state_name        county_name\n",
       "0           0    Wasilla       AK     Alaska  Matanuska-Susitna\n",
       "1           1    Wasilla       AK     Alaska  Matanuska-Susitna\n",
       "2           2  Anchorage       AK     Alaska          Anchorage\n",
       "3           4  Anchorage       AK     Alaska          Anchorage\n",
       "4           5  Anchorage       AK     Alaska          Anchorage"
      ]
     },
     "execution_count": 5,
     "metadata": {},
     "output_type": "execute_result"
    }
   ],
   "source": [
    "fage.head()"
   ]
  },
  {
   "cell_type": "code",
   "execution_count": 6,
   "metadata": {},
   "outputs": [
    {
     "data": {
      "text/plain": [
       "Texas                   7920\n",
       "Arkansas                3687\n",
       "Florida                 3488\n",
       "Pennsylvania            3273\n",
       "California              3077\n",
       "Ohio                    2625\n",
       "North Carolina          2513\n",
       "Missouri                2465\n",
       "Illinois                2387\n",
       "Michigan                2300\n",
       "Georgia                 2109\n",
       "Arizona                 1997\n",
       "Colorado                1893\n",
       "Minnesota               1809\n",
       "Virginia                1732\n",
       "Oklahoma                1696\n",
       "Wisconsin               1682\n",
       "Oregon                  1599\n",
       "New York                1565\n",
       "Tennessee               1525\n",
       "Indiana                 1482\n",
       "Kentucky                1452\n",
       "Iowa                    1426\n",
       "Alabama                 1294\n",
       "Louisiana               1290\n",
       "Washington              1287\n",
       "Montana                 1282\n",
       "Kansas                  1234\n",
       "South Carolina          1184\n",
       "Utah                    1028\n",
       "Idaho                   1025\n",
       "Mississippi              998\n",
       "West Virginia            871\n",
       "Nebraska                 863\n",
       "New Mexico               729\n",
       "Wyoming                  698\n",
       "Alaska                   663\n",
       "Nevada                   658\n",
       "Maryland                 599\n",
       "South Dakota             572\n",
       "North Dakota             473\n",
       "Connecticut              339\n",
       "Massachusetts            335\n",
       "New Jersey               296\n",
       "Maine                    292\n",
       "New Hampshire            277\n",
       "Vermont                  229\n",
       "Delaware                 134\n",
       "Hawaii                    64\n",
       "Rhode Island              60\n",
       "Puerto Rico               52\n",
       "District of Columbia       7\n",
       "Virgin Islands             1\n",
       "Name: state_name, dtype: int64"
      ]
     },
     "execution_count": 6,
     "metadata": {},
     "output_type": "execute_result"
    }
   ],
   "source": [
    "fage.state_name.value_counts()"
   ]
  },
  {
   "cell_type": "code",
   "execution_count": null,
   "metadata": {},
   "outputs": [],
   "source": []
  }
 ],
 "metadata": {
  "kernelspec": {
   "display_name": "Python 3",
   "language": "python",
   "name": "python3"
  },
  "language_info": {
   "codemirror_mode": {
    "name": "ipython",
    "version": 3
   },
   "file_extension": ".py",
   "mimetype": "text/x-python",
   "name": "python",
   "nbconvert_exporter": "python",
   "pygments_lexer": "ipython3",
   "version": "3.7.1"
  }
 },
 "nbformat": 4,
 "nbformat_minor": 2
}
